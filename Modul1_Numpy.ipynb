{
  "nbformat": 4,
  "nbformat_minor": 0,
  "metadata": {
    "colab": {
      "name": "Modul1Numpy.ipynb",
      "provenance": [],
      "collapsed_sections": []
    },
    "kernelspec": {
      "name": "python3",
      "display_name": "Python 3"
    },
    "language_info": {
      "name": "python"
    }
  },
  "cells": [
    {
      "cell_type": "markdown",
      "source": [
        "# Modul 1 - Manipulasi array menggunakan numpy"
      ],
      "metadata": {
        "id": "QIAbQTn12_Do"
      }
    },
    {
      "cell_type": "code",
      "source": [
        "# library numpy\n",
        "\n",
        "import numpy as np"
      ],
      "metadata": {
        "id": "_parSUon69cu"
      },
      "execution_count": null,
      "outputs": []
    },
    {
      "cell_type": "markdown",
      "source": [
        "## **Kode 1**"
      ],
      "metadata": {
        "id": "d0VP--yG2mr9"
      }
    },
    {
      "cell_type": "markdown",
      "source": [
        "### f. Buatlah array 2D berikut menggunakan numpy\n",
        "\n",
        "---\n",
        "\n",
        "![tabel1kode1.png](data:image/png;base64,iVBORw0KGgoAAAANSUhEUgAAAQsAAAB7CAYAAABjAKUnAAAAAXNSR0IArs4c6QAAAARnQU1BAACxjwv8YQUAAAAJcEhZcwAADsMAAA7DAcdvqGQAAAbUSURBVHhe7d3hUeTIEkXh9gVjsAVTsARDsANbmEhEjkrqUimrdEVntM4XoZh9+3r3x2nFRTQbxe0bAAIYCwAhjAWAEMYCQAhjASCEsQAQwlgACGmOxe124+LiusAVsTsW0KClDi21GItkaKlDSy3GIhla6tBSi7FIhpY6tNRiLJKhpQ4ttRiLZGipQ0stxiIZWurQUouxSIaWOrTUYiySoaUOLbUYi5N8fn7+dLHL/jqKlnUjPWk5e39//9+vvN7e3n5fsc9eH8FYdHp5efn/hjAWx430pOXMRuFoj+g/33wVb8qSr/jHx8fPn4zFMaM9aTljLJKyHnZjMxYaoz1pOWMsErI3xR6ZDWNx3JGetJwxFsnYTVzezIzFMUd70nLmY1Fer6+vv/9vTLQnYxFg8e1NcYzFMUd70nLb19fXTx9/aouI9mQsdviNXGIsxil60rLtrJ7NV/Gm1B/z1ldE9HXPTtEz8pors5GwRjYaEdGezVfxptTxZKHFk4WW/0javiWJiPZkLAYwFlqMxRgbg/VnE/5UUX4mtCfak7EYwFhoMRbj7MNi61Fe1rNHtCdj8UdoqUNLLcYiGVrq0FKLsUiGljq01GIskqGlDi21GItkaKlDSy3ZWHBxcT3/FbE7FtCgpQ4ttRiLZGipQ0stxiIZWurQUouxSIaWOrTUYiySoaUOLbUYi2RoqUNLLcYiGVrq0FKLsUiGljq01GIskqGlDi21GAsRP0xk64oeMmKvxVLtV+9FTneiZV15r55x1gpjMcjfmOhBI7Rc8kNboke/lWhZN/KrIE20J2MxyG72M45bv4KRk8ZKtLz3F79ak7EY4L+bwd6gKFrOeod2jZb3rIkNBWORjB9n3/MITcuZteg5UHaNlkvW0seXsUhm5Gan5aR8KrM/yyv6pGavxcRGwXr4ODAWifhN3vNmGFpOfCzWPcrvuffQcnb0V0GaaM/mq3hT7tnj3sj327SctD7vsb9vN/8eWk58GEqMRRL+RkS++q3RcmYtat/G2QgzFnHW0Fq0rojw637/rIr+S67CbuTRJrSc1X4a0vMTJlpu48kiAb+Zez/YdLSc1Z7QeoaYltsYiwT8kc9GYwQtl/ym9qvncyBabmMsngAtdWipxVgkQ0sdWmoxFsnQUoeWWoxFMrTUoaUWY5EMLXVoqSUbCy4urue/InbHAhq01KGlFmORDC11aKnFWCRDSx1aajEWydBSh5ZajEUytNShpRZjkQwtdWipxVgkQ0sdWmoxFsnQUoeWWoxFMrTUoaUWYyG2PsIscvxbiZYTO2eh7Li+IocL2etwr2zLeRYP4qc4lQff2P/uGQxatvmNXp6etYWWdXaAkLWxi7F4AL+J12dD+olE0ZOzaNlWO5dzCy3vlb9Kwf5kLB5gK37PV0JDy209h/UaWt7ze5GxeKCtUeAG1+k935SWS9bPn8oYiwezDutHZH/sYyyOszaRDzYdLWf+xczHgbFIwFqUl381ZCyO8dE94+a+AvuspxxaxiIh/zZk/e3JFlrW2RNb9INNR8uJD0OJsUjI3xS+zx7nDaOD62g58afb1hURft3vn1XRf8kV2VdD/juLY/y/X+lFy208WSTjN3n0qcLQcsm/jev5YNPRchtj8WD2FGEt/Or9HtvQcskfoXsG19FyG2PxBGipQ0stxiIZWurQUouxSIaWOrTUYiySoaUOLbUYi2RoqUNLLdlYcHFxPf8VsTsW0KClDi21GItkaKlDSy3GIhla6tBSi7FIhpY6tNRiLJKhpQ4ttRiLZGipQ0stxiIZWurQUouxSIaWOrTUYiySoaUOLbUYixP44bLlxbF6Y9Ydew7BoeXEzqxYdyyvaFN7bQRjETRyOlaJljM7PKg8d9MPbOGkdA0fkbJxS7QnYxEwcvrQGi3bes40pWWbdew5zY2xEOqNX0PLNsZCw882jT6lGcZCyDqMHCxbouW23vM4ablt5GzTaE/GYke51PZneZ2x3ldhTxJlyzNu7iuyNr1f2KI9GYsdPhbrFj4e6g+Rrsg/E+LbkGP8nuz9bC3as/kq3pT294D297nBNXpudFrW2dPayGdr0Z6MRYB1qD3a8aGcTs+P+2h5z5/Ook+6pWhPxiKg9tOQ1hNHDS3b/GbnyWKM3aOjXaL/XPNVvCmT2mr3vjm0nPjIlvzv8ZQ2xvuN/sQu2rP5Kt6UmQ+GX73fG9Jy5p9PlFf0Cc3Qcmnkx6WlaE/G4o/QUoeWWoxFMrTUoaUWY5EMLXVoqcVYJENLHVpqMRbJ0FKHllqyseDi4nr+K4KJBhDCWAAIYSwAhDAWAEIYCwAhjAWAEMYCQMD39z+BWwTmOTxC9wAAAABJRU5ErkJggg==)"
      ],
      "metadata": {
        "id": "ZYN8bdLT20il"
      }
    },
    {
      "cell_type": "code",
      "source": [
        "# create numpy arrays\n",
        "\n",
        "array_2d = np.array([[4, 4, 5], [7, 6, 4], [9, 7, 4], [6, 3, 7]])\n",
        "\n",
        "array_2d"
      ],
      "metadata": {
        "colab": {
          "base_uri": "https://localhost:8080/"
        },
        "id": "jqex5rRD65Kh",
        "outputId": "6297818a-e0fd-4d95-f1a8-57d65e382933"
      },
      "execution_count": null,
      "outputs": [
        {
          "output_type": "execute_result",
          "data": {
            "text/plain": [
              "array([[4, 4, 5],\n",
              "       [7, 6, 4],\n",
              "       [9, 7, 4],\n",
              "       [6, 3, 7]])"
            ]
          },
          "metadata": {},
          "execution_count": 2
        }
      ]
    },
    {
      "cell_type": "markdown",
      "source": [
        "### g. Buatlah array 3D berikut menggunakan numpy\n",
        "\n",
        "---\n",
        "\n",
        "![tabel2kode1.png](data:image/png;base64,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)"
      ],
      "metadata": {
        "id": "--aZkdzY4l-5"
      }
    },
    {
      "cell_type": "code",
      "source": [
        "# create numpy arrays\n",
        "\n",
        "array_3d = np.array([\n",
        "                     [[7, 8, 5], [4, 7, 7], [7, 1, 9], [5, 4, 10]],\n",
        "                     [[2, 1, 2], [9, 8, 5], [3, 7, 3], [4, 9, 9]],\n",
        "                     [[2, 9, 3], [2, 4, 8], [1, 6, 6], [8, 1, 3]]\n",
        "                     ])\n",
        "\n",
        "array_3d"
      ],
      "metadata": {
        "colab": {
          "base_uri": "https://localhost:8080/"
        },
        "id": "XVSuVONk8OAx",
        "outputId": "afd3acfd-c148-44df-ee90-74d3eddf3e99"
      },
      "execution_count": null,
      "outputs": [
        {
          "output_type": "execute_result",
          "data": {
            "text/plain": [
              "array([[[ 7,  8,  5],\n",
              "        [ 4,  7,  7],\n",
              "        [ 7,  1,  9],\n",
              "        [ 5,  4, 10]],\n",
              "\n",
              "       [[ 2,  1,  2],\n",
              "        [ 9,  8,  5],\n",
              "        [ 3,  7,  3],\n",
              "        [ 4,  9,  9]],\n",
              "\n",
              "       [[ 2,  9,  3],\n",
              "        [ 2,  4,  8],\n",
              "        [ 1,  6,  6],\n",
              "        [ 8,  1,  3]]])"
            ]
          },
          "metadata": {},
          "execution_count": 3
        }
      ]
    },
    {
      "cell_type": "markdown",
      "source": [
        "## **Kode 2**"
      ],
      "metadata": {
        "id": "bWAR8Gu647z3"
      }
    },
    {
      "cell_type": "markdown",
      "source": [
        "### d. Tambahkan angka 1 pada setiap bilangan di baris ganjil array berikut. kemudian tambahkan angka 2 pada setiap bilangan di kolom genap array berikut.\n",
        "\n",
        "---\n",
        "\n",
        "![tabel1kode2.png](data:image/png;base64,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)"
      ],
      "metadata": {
        "id": "g6CCWase5C7Q"
      }
    },
    {
      "cell_type": "code",
      "source": [
        "# # initialising numpy array and show array\n",
        "arr = np.array([[1, 8, 8, 2], [8, 2, 1, 2], [10, 1, 4, 7], [1, 4, 7, 8], [8, 2, 3, 4]])\n",
        "arr"
      ],
      "metadata": {
        "colab": {
          "base_uri": "https://localhost:8080/"
        },
        "id": "g-JuIfMv9oWY",
        "outputId": "c77b7118-a10b-4d4f-f614-f32abf16f3ac"
      },
      "execution_count": null,
      "outputs": [
        {
          "output_type": "execute_result",
          "data": {
            "text/plain": [
              "array([[ 1,  8,  8,  2],\n",
              "       [ 8,  2,  1,  2],\n",
              "       [10,  1,  4,  7],\n",
              "       [ 1,  4,  7,  8],\n",
              "       [ 8,  2,  3,  4]])"
            ]
          },
          "metadata": {},
          "execution_count": 4
        }
      ]
    },
    {
      "cell_type": "code",
      "source": [
        "# show selected array\n",
        "print(\"array dengan baris ganjil:\\n\", arr[0:5:2, :])\n",
        "print(\"array dengan kolom genap:\\n\", arr[0:5, 1:4:2])\n"
      ],
      "metadata": {
        "colab": {
          "base_uri": "https://localhost:8080/"
        },
        "id": "XBu45MZPyeVZ",
        "outputId": "cd343f6a-4b3d-4922-fb6b-d364d186153c"
      },
      "execution_count": null,
      "outputs": [
        {
          "output_type": "stream",
          "name": "stdout",
          "text": [
            "array dengan baris ganjil:\n",
            " [[ 1  8  8  2]\n",
            " [10  1  4  7]\n",
            " [ 8  2  3  4]]\n",
            "array dengan kolom genap:\n",
            " [[8 2]\n",
            " [2 2]\n",
            " [1 7]\n",
            " [4 8]\n",
            " [2 4]]\n"
          ]
        }
      ]
    },
    {
      "cell_type": "code",
      "source": [
        "# change value and show result \n",
        "arr[0:5:2, :] += 1\n",
        "arr[0:5, 1:4:2] += 2\n",
        "\n",
        "arr"
      ],
      "metadata": {
        "colab": {
          "base_uri": "https://localhost:8080/"
        },
        "id": "xTl3_-EpygJ1",
        "outputId": "1f631523-64d8-4683-a6a2-ca55efcd8ff8"
      },
      "execution_count": null,
      "outputs": [
        {
          "output_type": "execute_result",
          "data": {
            "text/plain": [
              "array([[ 2, 11,  9,  5],\n",
              "       [ 8,  4,  1,  4],\n",
              "       [11,  4,  5, 10],\n",
              "       [ 1,  6,  7, 10],\n",
              "       [ 9,  5,  4,  7]])"
            ]
          },
          "metadata": {},
          "execution_count": 10
        }
      ]
    },
    {
      "cell_type": "markdown",
      "source": [
        "### e. Baliklah sumbu z array 3D berikut\n",
        "\n",
        "---\n",
        "\n",
        "![tabel2kode2.png](data:image/png;base64,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)"
      ],
      "metadata": {
        "id": "NRwATsQx50Im"
      }
    },
    {
      "cell_type": "code",
      "source": [
        "# initialising numpy array\n",
        "array = np.array([[[7, 8, 5], [4, 7, 7], [7, 1, 9], [5, 4, 10]],\n",
        "                  [[2, 1, 2], [9, 8, 5], [3, 7, 3], [4, 9, 9]],\n",
        "                  [[2, 9, 3], [2, 4, 8], [1, 6, 6], [8, 1, 3]]])\n",
        "# show array\n",
        "print(\"array:\\n\", array)\n",
        "\n",
        "# reverse an numpy array\n",
        "print(\"output:\\n\", array[::-1])"
      ],
      "metadata": {
        "colab": {
          "base_uri": "https://localhost:8080/"
        },
        "id": "qublL3p0QzG3",
        "outputId": "d29d4c3c-35bc-449d-fcb6-ffa09a1437eb"
      },
      "execution_count": null,
      "outputs": [
        {
          "output_type": "stream",
          "name": "stdout",
          "text": [
            "array:\n",
            " [[[ 7  8  5]\n",
            "  [ 4  7  7]\n",
            "  [ 7  1  9]\n",
            "  [ 5  4 10]]\n",
            "\n",
            " [[ 2  1  2]\n",
            "  [ 9  8  5]\n",
            "  [ 3  7  3]\n",
            "  [ 4  9  9]]\n",
            "\n",
            " [[ 2  9  3]\n",
            "  [ 2  4  8]\n",
            "  [ 1  6  6]\n",
            "  [ 8  1  3]]]\n",
            "output:\n",
            " [[[ 2  9  3]\n",
            "  [ 2  4  8]\n",
            "  [ 1  6  6]\n",
            "  [ 8  1  3]]\n",
            "\n",
            " [[ 2  1  2]\n",
            "  [ 9  8  5]\n",
            "  [ 3  7  3]\n",
            "  [ 4  9  9]]\n",
            "\n",
            " [[ 7  8  5]\n",
            "  [ 4  7  7]\n",
            "  [ 7  1  9]\n",
            "  [ 5  4 10]]]\n"
          ]
        }
      ]
    },
    {
      "cell_type": "markdown",
      "source": [
        "### f. Ubahlah array pada soal e menjadi array 2D berukuran 6 x 6 (hint : gunakan perintah reshape)"
      ],
      "metadata": {
        "id": "JvK4-O-r6HTC"
      }
    },
    {
      "cell_type": "code",
      "source": [
        "# show array\n",
        "array"
      ],
      "metadata": {
        "colab": {
          "base_uri": "https://localhost:8080/"
        },
        "id": "C8i9R9RfUrCg",
        "outputId": "a5df9842-0967-4325-e913-372c0d79fdd2"
      },
      "execution_count": null,
      "outputs": [
        {
          "output_type": "execute_result",
          "data": {
            "text/plain": [
              "array([[[ 7,  8,  5],\n",
              "        [ 4,  7,  7],\n",
              "        [ 7,  1,  9],\n",
              "        [ 5,  4, 10]],\n",
              "\n",
              "       [[ 2,  1,  2],\n",
              "        [ 9,  8,  5],\n",
              "        [ 3,  7,  3],\n",
              "        [ 4,  9,  9]],\n",
              "\n",
              "       [[ 2,  9,  3],\n",
              "        [ 2,  4,  8],\n",
              "        [ 1,  6,  6],\n",
              "        [ 8,  1,  3]]])"
            ]
          },
          "metadata": {},
          "execution_count": 14
        }
      ]
    },
    {
      "cell_type": "code",
      "source": [
        "# change ordo matrix\n",
        "array.reshape(6, 6)"
      ],
      "metadata": {
        "colab": {
          "base_uri": "https://localhost:8080/"
        },
        "id": "e4_SP8Ca2dkq",
        "outputId": "b8e90a34-e567-42d2-c126-5725db5a7ea9"
      },
      "execution_count": null,
      "outputs": [
        {
          "output_type": "execute_result",
          "data": {
            "text/plain": [
              "array([[ 7,  8,  5,  4,  7,  7],\n",
              "       [ 7,  1,  9,  5,  4, 10],\n",
              "       [ 2,  1,  2,  9,  8,  5],\n",
              "       [ 3,  7,  3,  4,  9,  9],\n",
              "       [ 2,  9,  3,  2,  4,  8],\n",
              "       [ 1,  6,  6,  8,  1,  3]])"
            ]
          },
          "metadata": {},
          "execution_count": 15
        }
      ]
    },
    {
      "cell_type": "markdown",
      "source": [
        "## **Kode 3**"
      ],
      "metadata": {
        "id": "kxG6XsvU4_U1"
      }
    },
    {
      "cell_type": "markdown",
      "source": [
        "### e. Ubahlah matris kiri menjadi matriks sebelah kanan\n",
        "\n",
        "---\n",
        "\n",
        "![tabel1kode3.png](data:image/png;base64,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)"
      ],
      "metadata": {
        "id": "DciCZ2HB6ZTb"
      }
    },
    {
      "cell_type": "code",
      "source": [
        "# creating arrays\n",
        "arr = np.array([[5, 10, 10, 7], [7, 8, 4, 10], [9, 10, 2, 5], [1, 8, 9, 3], [6, 10, 5, 2], [4, 6, 9, 4]])\n",
        "\n",
        "arr_copy = arr.copy()\n",
        "arr_copy"
      ],
      "metadata": {
        "colab": {
          "base_uri": "https://localhost:8080/"
        },
        "id": "HXN07Nb7xfYB",
        "outputId": "39e2e737-f149-448a-ddf3-97bec70c21d7"
      },
      "execution_count": null,
      "outputs": [
        {
          "output_type": "execute_result",
          "data": {
            "text/plain": [
              "array([[ 5, 10, 10,  7],\n",
              "       [ 7,  8,  4, 10],\n",
              "       [ 9, 10,  2,  5],\n",
              "       [ 1,  8,  9,  3],\n",
              "       [ 6, 10,  5,  2],\n",
              "       [ 4,  6,  9,  4]])"
            ]
          },
          "metadata": {},
          "execution_count": 16
        }
      ]
    },
    {
      "cell_type": "code",
      "source": [
        "# slicing menjadi 4 bagian\n",
        "arr1 = arr[:3, :2] #kiri atas\n",
        "arr2 = arr[:3, 2:] #kanan atas\n",
        "arr3 = arr[3:, :2] #kiri bawah\n",
        "arr4 = arr[3:, 2:] #kanan bawah\n",
        "arr2"
      ],
      "metadata": {
        "id": "sirz3fgq2_BI",
        "colab": {
          "base_uri": "https://localhost:8080/"
        },
        "outputId": "3964d6f3-2436-47f6-8136-94e1e07179ca"
      },
      "execution_count": null,
      "outputs": [
        {
          "output_type": "execute_result",
          "data": {
            "text/plain": [
              "array([[10,  7],\n",
              "       [ 4, 10],\n",
              "       [ 2,  5]])"
            ]
          },
          "metadata": {},
          "execution_count": 18
        }
      ]
    },
    {
      "cell_type": "code",
      "source": [
        "\n",
        "# move kanan bawah (arr) ke kiri atas (arr_copy)\n",
        "arr_copy[:3, :2] = arr4\n",
        "# move kiri atas (arr) ke kanan bawah (arr_copy)\n",
        "arr_copy[3:, 2:] = arr1\n",
        "\n",
        "arr_copy\n"
      ],
      "metadata": {
        "colab": {
          "base_uri": "https://localhost:8080/"
        },
        "id": "6q8gKwXh3WaH",
        "outputId": "c5f3da8a-8823-415d-ef7d-07a6600ed05c"
      },
      "execution_count": null,
      "outputs": [
        {
          "output_type": "execute_result",
          "data": {
            "text/plain": [
              "array([[ 9,  3, 10,  7],\n",
              "       [ 5,  2,  4, 10],\n",
              "       [ 9,  4,  2,  5],\n",
              "       [ 1,  8,  5, 10],\n",
              "       [ 6, 10,  7,  8],\n",
              "       [ 4,  6,  9, 10]])"
            ]
          },
          "metadata": {},
          "execution_count": 19
        }
      ]
    },
    {
      "cell_type": "code",
      "source": [
        "# move kiri bawah (arr) ke kanan atas (arr_copy)\n",
        "arr_copy[:3, 2:] = arr3\n",
        "# move kanan atas (arr) ke kiri bawah (arr_copy)\n",
        "arr_copy[3:, :2] = arr2\n",
        "\n",
        "arr_copy\n"
      ],
      "metadata": {
        "colab": {
          "base_uri": "https://localhost:8080/"
        },
        "id": "vYZLkLCW4CMI",
        "outputId": "2f96531b-c04d-4533-ce5d-b67b37f5c749"
      },
      "execution_count": null,
      "outputs": [
        {
          "output_type": "execute_result",
          "data": {
            "text/plain": [
              "array([[ 9,  3,  1,  8],\n",
              "       [ 5,  2,  6, 10],\n",
              "       [ 9,  4,  4,  6],\n",
              "       [10,  7,  5, 10],\n",
              "       [ 4, 10,  7,  8],\n",
              "       [ 2,  5,  9, 10]])"
            ]
          },
          "metadata": {},
          "execution_count": 20
        }
      ]
    },
    {
      "cell_type": "code",
      "source": [
        "arr = arr_copy\n",
        "arr"
      ],
      "metadata": {
        "colab": {
          "base_uri": "https://localhost:8080/"
        },
        "id": "TYn7-XPD4Xhu",
        "outputId": "d220faf0-945d-453e-fd2f-34aa1186a233"
      },
      "execution_count": null,
      "outputs": [
        {
          "output_type": "execute_result",
          "data": {
            "text/plain": [
              "array([[ 9,  3,  1,  8],\n",
              "       [ 5,  2,  6, 10],\n",
              "       [ 9,  4,  4,  6],\n",
              "       [10,  7,  5, 10],\n",
              "       [ 4, 10,  7,  8],\n",
              "       [ 2,  5,  9, 10]])"
            ]
          },
          "metadata": {},
          "execution_count": 21
        }
      ]
    }
  ]
}